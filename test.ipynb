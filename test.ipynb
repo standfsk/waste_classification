{
 "cells": [
  {
   "cell_type": "code",
   "execution_count": 24,
   "metadata": {},
   "outputs": [
    {
     "name": "stdout",
     "output_type": "stream",
     "text": [
      "(1920, 1440, 3) [181, 375, 1487, 1438]\n"
     ]
    }
   ],
   "source": [
    "import json\n",
    "import cv2\n",
    "from PIL import Image, ImageDraw\n",
    "import os\n",
    "\n",
    "def pil_draw_rect(image, points):\n",
    "    draw = ImageDraw.Draw(image)\n",
    "    draw.rectangle(points, outline='red', width=3)\n",
    "    return image\n",
    "\n",
    "data_path = 'data_copy'\n",
    "\n",
    "img_path = os.path.join(data_path,'15_X001_C016_1027_0.jpg')\n",
    "with open(os.path.join(data_path, '15_X001_C016_1027_0.Json'), 'r', encoding='utf-8') as j_f:\n",
    "    data = json.load(j_f)\n",
    "x1 = int(data['Bounding'][0]['x1'])\n",
    "y1 = int(data['Bounding'][0]['y1'])\n",
    "x2 = int(data['Bounding'][0]['x2'])\n",
    "y2 = int(data['Bounding'][0]['y2'])\n",
    "\n",
    "img1 = Image.open(img_path)\n",
    "bbox_img = pil_draw_rect(img1, [(x1, y1), (x2, y2)])\n",
    "if not os.path.isdir('bbox_images'):\n",
    "    os.mkdir('bbox_images')\n",
    "bbox_img.save(os.path.join('bbox_images', 'pillow_15_X001_C016_1027_0.jpg'),'jpeg')\n",
    "\n",
    "\n",
    "img2 = cv2.imread(img_path)\n",
    "bbox_img2 = cv2.rectangle(img2, [x1,y1], [x2,y2], (255,0,0), 2)\n",
    "cv2.imwrite(os.path.join('bbox_images', 'cv2_15_X001_C016_1027_0.jpg'), bbox_img2)\n",
    "print(img2.shape, [x1,y1,x2,y2])\n"
   ]
  },
  {
   "cell_type": "code",
   "execution_count": 2,
   "metadata": {},
   "outputs": [
    {
     "ename": "KeyError",
     "evalue": "'x1'",
     "output_type": "error",
     "traceback": [
      "\u001b[1;31m---------------------------------------------------------------------------\u001b[0m",
      "\u001b[1;31mKeyError\u001b[0m                                  Traceback (most recent call last)",
      "Cell \u001b[1;32mIn[2], line 20\u001b[0m\n\u001b[0;32m     18\u001b[0m cv2\u001b[39m.\u001b[39mimwrite(os\u001b[39m.\u001b[39mpath\u001b[39m.\u001b[39mjoin(\u001b[39m'\u001b[39m\u001b[39mtest_data\u001b[39m\u001b[39m'\u001b[39m, image_file), resized_img)\n\u001b[0;32m     19\u001b[0m \u001b[39m# 라벨 데이터 전처리\u001b[39;00m\n\u001b[1;32m---> 20\u001b[0m bbox_resized \u001b[39m=\u001b[39m data_preprocessing\u001b[39m.\u001b[39;49mresize_bbox(img, resized_img, os\u001b[39m.\u001b[39;49mpath\u001b[39m.\u001b[39;49mjoin(data_path, image_file\u001b[39m.\u001b[39;49msplit(\u001b[39m'\u001b[39;49m\u001b[39m.\u001b[39;49m\u001b[39m'\u001b[39;49m)[\u001b[39m0\u001b[39;49m]\u001b[39m+\u001b[39;49m\u001b[39m'\u001b[39;49m\u001b[39m.json\u001b[39;49m\u001b[39m'\u001b[39;49m))\n\u001b[0;32m     21\u001b[0m data_preprocessing\u001b[39m.\u001b[39mchange_bbox(bbox_resized, os\u001b[39m.\u001b[39mpath\u001b[39m.\u001b[39mjoin(data_path, image_file\u001b[39m.\u001b[39msplit(\u001b[39m'\u001b[39m\u001b[39m.\u001b[39m\u001b[39m'\u001b[39m)[\u001b[39m0\u001b[39m]\u001b[39m+\u001b[39m\u001b[39m'\u001b[39m\u001b[39m.json\u001b[39m\u001b[39m'\u001b[39m), os\u001b[39m.\u001b[39mpath\u001b[39m.\u001b[39mjoin(\u001b[39m'\u001b[39m\u001b[39mtest_data\u001b[39m\u001b[39m'\u001b[39m, image_file\u001b[39m.\u001b[39msplit(\u001b[39m'\u001b[39m\u001b[39m.\u001b[39m\u001b[39m'\u001b[39m)[\u001b[39m0\u001b[39m]\u001b[39m+\u001b[39m\u001b[39m'\u001b[39m\u001b[39m.json\u001b[39m\u001b[39m'\u001b[39m))\n",
      "File \u001b[1;32md:\\waste_classification\\data_preprocessing.py:102\u001b[0m, in \u001b[0;36mresize_bbox\u001b[1;34m(image, resized_image, json_file)\u001b[0m\n\u001b[0;32m    100\u001b[0m \u001b[39mwith\u001b[39;00m \u001b[39mopen\u001b[39m(json_file, \u001b[39m'\u001b[39m\u001b[39mr\u001b[39m\u001b[39m'\u001b[39m, encoding\u001b[39m=\u001b[39m\u001b[39m'\u001b[39m\u001b[39mutf-8\u001b[39m\u001b[39m'\u001b[39m) \u001b[39mas\u001b[39;00m j_f:\n\u001b[0;32m    101\u001b[0m     data \u001b[39m=\u001b[39m json\u001b[39m.\u001b[39mload(j_f)\n\u001b[1;32m--> 102\u001b[0m x1 \u001b[39m=\u001b[39m \u001b[39mint\u001b[39m(data[\u001b[39m'\u001b[39;49m\u001b[39mBounding\u001b[39;49m\u001b[39m'\u001b[39;49m][\u001b[39m0\u001b[39;49m][\u001b[39m'\u001b[39;49m\u001b[39mx1\u001b[39;49m\u001b[39m'\u001b[39;49m])\n\u001b[0;32m    103\u001b[0m y1 \u001b[39m=\u001b[39m \u001b[39mint\u001b[39m(data[\u001b[39m'\u001b[39m\u001b[39mBounding\u001b[39m\u001b[39m'\u001b[39m][\u001b[39m0\u001b[39m][\u001b[39m'\u001b[39m\u001b[39my1\u001b[39m\u001b[39m'\u001b[39m])\n\u001b[0;32m    104\u001b[0m x2 \u001b[39m=\u001b[39m \u001b[39mint\u001b[39m(data[\u001b[39m'\u001b[39m\u001b[39mBounding\u001b[39m\u001b[39m'\u001b[39m][\u001b[39m0\u001b[39m][\u001b[39m'\u001b[39m\u001b[39mx2\u001b[39m\u001b[39m'\u001b[39m])\n",
      "\u001b[1;31mKeyError\u001b[0m: 'x1'"
     ]
    }
   ],
   "source": [
    "import os\n",
    "import cv2\n",
    "import data_preprocesmath.math.math.math.math.sing\n",
    "import numpy as np\n",
    "from PIL import Image\n",
    "\n",
    "\n",
    "data_path = 'data'\n",
    "files = set([x.split('.')[0] for x in os.listdir(data_path)])\n",
    "for f in files:\n",
    "    image_file = f + '.jpg'\n",
    "    label_file = f + '.Json'\n",
    "    # Pillow image -> OpenCV image\n",
    "    img = Image.open(os.path.join(data_path, image_file))\n",
    "    img = cv2.cvtColor(np.array(img), cv2.COLOR_BGR2RGB)\n",
    "    # 이미지 데이터 resize\n",
    "    resized_img = cv2.resize(img, dsize=(640, 640))\n",
    "    cv2.imwrite(os.path.join('test_data', image_file), resized_img)\n",
    "    # 라벨 데이터 전처리\n",
    "    bbox_resized = data_preprocessing.resize_bbox(img, resized_img, os.path.join(data_path, image_file.split('.')[0]+'.json'))\n",
    "    data_preprocessing.change_bbox(bbox_resized, os.path.join(data_path, image_file.split('.')[0]+'.json'), os.path.join('test_data', image_file.split('.')[0]+'.json'))"
   ]
  },
  {
   "cell_type": "code",
   "execution_count": 55,
   "metadata": {},
   "outputs": [
    {
     "ename": "error",
     "evalue": "OpenCV(4.8.0) :-1: error: (-5:Bad argument) in function 'resize'\n> Overload resolution failed:\n>  - src is not a numpy array, neither a scalar\n>  - Expected Ptr<cv::UMat> for argument 'src'\n",
     "output_type": "error",
     "traceback": [
      "\u001b[1;31m---------------------------------------------------------------------------\u001b[0m",
      "\u001b[1;31merror\u001b[0m                                     Traceback (most recent call last)",
      "Cell \u001b[1;32mIn[55], line 2\u001b[0m\n\u001b[0;32m      1\u001b[0m img_original \u001b[39m=\u001b[39m Image\u001b[39m.\u001b[39mopen(os\u001b[39m.\u001b[39mpath\u001b[39m.\u001b[39mjoin(\u001b[39m'\u001b[39m\u001b[39mdata_copy\u001b[39m\u001b[39m'\u001b[39m, \u001b[39m'\u001b[39m\u001b[39m15_X001_C016_1027_0.jpg\u001b[39m\u001b[39m'\u001b[39m))\n\u001b[1;32m----> 2\u001b[0m img_resized \u001b[39m=\u001b[39m cv2\u001b[39m.\u001b[39;49mresize(img_original, dsize\u001b[39m=\u001b[39;49m(\u001b[39m1920\u001b[39;49m,\u001b[39m1440\u001b[39;49m))\n\u001b[0;32m      3\u001b[0m \u001b[39mwith\u001b[39;00m \u001b[39mopen\u001b[39m(os\u001b[39m.\u001b[39mpath\u001b[39m.\u001b[39mjoin(\u001b[39m'\u001b[39m\u001b[39mdata_copy\u001b[39m\u001b[39m'\u001b[39m, \u001b[39m'\u001b[39m\u001b[39m15_X001_C016_1027_0.json\u001b[39m\u001b[39m'\u001b[39m), \u001b[39m'\u001b[39m\u001b[39mr\u001b[39m\u001b[39m'\u001b[39m, encoding\u001b[39m=\u001b[39m\u001b[39m'\u001b[39m\u001b[39mutf-8\u001b[39m\u001b[39m'\u001b[39m) \u001b[39mas\u001b[39;00m j_f:\n\u001b[0;32m      4\u001b[0m     data \u001b[39m=\u001b[39m json\u001b[39m.\u001b[39mload(j_f)\n",
      "\u001b[1;31merror\u001b[0m: OpenCV(4.8.0) :-1: error: (-5:Bad argument) in function 'resize'\n> Overload resolution failed:\n>  - src is not a numpy array, neither a scalar\n>  - Expected Ptr<cv::UMat> for argument 'src'\n"
     ]
    }
   ],
   "source": [
    "img_original = Image.open(os.path.join('data_copy', '15_X001_C016_1027_0.jpg'))\n",
    "img_resized = cv2.resize(img_original, dsize=(640,640))\n",
    "with open(os.path.join('data_copy', '15_X001_C016_1027_0.json'), 'r', encoding='utf-8') as j_f:\n",
    "    data = json.load(j_f)\n",
    "x1 = int(data['Bounding'][0]['x1'])\n",
    "y1 = int(data['Bounding'][0]['y1'])\n",
    "x2 = int(data['Bounding'][0]['x2'])\n",
    "y2 = int(data['Bounding'][0]['y2'])\n",
    "img_resized = cv2.rectangle(img_resized, [x1,y1], [x2,y2], (255,0,0), 2)\n",
    "cv2.imwrite(os.path.join('bbox_images','resized.jpg'), img_resized)\n",
    "print(img_resized.shape)"
   ]
  },
  {
   "cell_type": "code",
   "execution_count": 54,
   "metadata": {},
   "outputs": [
    {
     "data": {
      "text/plain": [
       "True"
      ]
     },
     "execution_count": 54,
     "metadata": {},
     "output_type": "execute_result"
    }
   ],
   "source": [
    "from PIL import Image\n",
    "import cv2\n",
    "import numpy as np\n",
    "\n",
    "image = os.path.join('data_copy', '15_X001_C016_1027_0.jpg')\n",
    "img1 = Image.open(image)\n",
    "img1.save(os.path.join('bbox_images', 'pillow.jpg'))\n",
    "\n",
    "with open(os.path.join('data_copy', '15_X001_C016_1027_0.json'), 'r', encoding='utf-8') as j_f:\n",
    "    data = json.load(j_f)\n",
    "x1 = int(data['Bounding'][0]['x1'])\n",
    "y1 = int(data['Bounding'][0]['y1'])\n",
    "x2 = int(data['Bounding'][0]['x2'])\n",
    "y2 = int(data['Bounding'][0]['y2'])\n",
    "\n",
    "img2 = cv2.imread(os.path.join('bbox_images', 'pillow.jpg'))\n",
    "bbox_img2 = cv2.rectangle(img2, [x1,y1], [x2,y2], (255,0,0), 2)\n",
    "cv2.imwrite(os.path.join('bbox_images', 'cv2.jpg'), bbox_img2)\n"
   ]
  },
  {
   "cell_type": "code",
   "execution_count": 3,
   "metadata": {},
   "outputs": [],
   "source": [
    "data_path = 'test_data'\n",
    "# 데이터 전처리\n",
    "json_files = [x for x in os.listdir(data_path) if x.split('.')[-1] in ('Json', 'json')]\n",
    "image_files = [x for x in os.listdir(data_path) if x.split('.')[-1] in 'jpg']\n",
    "for image_file in image_files:\n",
    "    # # 라벨 데이터 백업 파일 저장\n",
    "    # shutil.copy(os.path.join(data_path, image_file.split('.')[0]+'.json'), os.path.join(data_path, 'jsons', image_file.split('.')[0]+'.json'))\n",
    "    # # 이미지 데이터 복사\n",
    "    # shutil.copy(os.path.join(data_path, image_file), os.path.join(data_path, image_file.split('.')[0] + '_copy.jpg'))\n",
    "    # 이미지 데이터 resize\n",
    "    img = Image.open(os.path.join(data_path, image_file))\n",
    "    img = cv2.cvtColor(np.array(img), cv2.COLOR_BGR2RGB)\n",
    "    resized_img = cv2.resize(img, dsize=(640,640), interpolation=cv2.INTER_LINEAR)\n",
    "    # 라벨 데이터 전처리\n",
    "    bbox_resized = data_preprocessing.resize_bbox(img, resized_img, os.path.join(data_path, image_file.split('.')[0]+'.json'))\n",
    "    data_preprocessing.change_bbox(bbox_resized, os.path.join(data_path, image_file.split('.')[0]+'.json'), os.path.join(data_path, image_file.split('.')[0]+'.json'))\n",
    "    # # 라벨 데이터 제거\n",
    "    # os.remove(os.path.join(data_path, image_file.split('.')[0]+'.json'))\n",
    "    # 이미지 데이터 표준화\n",
    "    normalized_image = data_preprocessing.normalize_image(resized_img)\n",
    "    # 이미지 데이터 저장\n",
    "    cv2.imwrite(os.path.join(data_path, image_file), resized_img)\n",
    "    # # 원본데이터 imgs 폴더로 이동\n",
    "    # shutil.move(os.path.join(data_path, image_file.split('.')[0] + '_copy.jpg'), os.path.join(data_path, 'imgs', image_file))"
   ]
  },
  {
   "cell_type": "code",
   "execution_count": 13,
   "metadata": {},
   "outputs": [
    {
     "name": "stdout",
     "output_type": "stream",
     "text": [
      "['2', '4']\n"
     ]
    }
   ],
   "source": [
    "from collections import Counter\n",
    "a = Counter(['1','1','2','3','3','4'])\n",
    "b = [key for key,value in a.items() if value == 1]\n",
    "print(b)"
   ]
  },
  {
   "cell_type": "code",
   "execution_count": 19,
   "metadata": {},
   "outputs": [
    {
     "name": "stdout",
     "output_type": "stream",
     "text": [
      "[[ 1.  0.  0.]\n",
      " [-0.  1.  0.]]\n",
      "[[ 7.07106781e-01  7.07106781e-01 -1.00660172e+02]\n",
      " [-7.07106781e-01  7.07106781e-01  8.36984848e+02]]\n",
      "[[ 6.123234e-17  1.000000e+00  4.200000e+02]\n",
      " [-1.000000e+00  6.123234e-17  1.500000e+03]]\n",
      "[[-7.07106781e-01  7.07106781e-01  1.25698485e+03]\n",
      " [-7.07106781e-01 -7.07106781e-01  1.60066017e+03]]\n",
      "[[-1.0000000e+00  1.2246468e-16  1.9200000e+03]\n",
      " [-1.2246468e-16 -1.0000000e+00  1.0800000e+03]]\n",
      "[[-7.07106781e-01 -7.07106781e-01  2.02066017e+03]\n",
      " [ 7.07106781e-01 -7.07106781e-01  2.43015152e+02]]\n",
      "[[-1.8369702e-16 -1.0000000e+00  1.5000000e+03]\n",
      " [ 1.0000000e+00 -1.8369702e-16 -4.2000000e+02]]\n",
      "[[   0.70710678   -0.70710678  663.0151519 ]\n",
      " [   0.70710678    0.70710678 -520.66017178]]\n",
      "[[ 1.  0.  0.]\n",
      " [-0.  1.  0.]]\n",
      "[[ 7.07106781e-01  7.07106781e-01 -1.00660172e+02]\n",
      " [-7.07106781e-01  7.07106781e-01  8.36984848e+02]]\n",
      "[[ 6.123234e-17  1.000000e+00  4.200000e+02]\n",
      " [-1.000000e+00  6.123234e-17  1.500000e+03]]\n",
      "[[-7.07106781e-01  7.07106781e-01  1.25698485e+03]\n",
      " [-7.07106781e-01 -7.07106781e-01  1.60066017e+03]]\n",
      "[[-1.0000000e+00  1.2246468e-16  1.9200000e+03]\n",
      " [-1.2246468e-16 -1.0000000e+00  1.0800000e+03]]\n",
      "[[-7.07106781e-01 -7.07106781e-01  2.02066017e+03]\n",
      " [ 7.07106781e-01 -7.07106781e-01  2.43015152e+02]]\n",
      "[[-1.8369702e-16 -1.0000000e+00  1.5000000e+03]\n",
      " [ 1.0000000e+00 -1.8369702e-16 -4.2000000e+02]]\n",
      "[[   0.70710678   -0.70710678  663.0151519 ]\n",
      " [   0.70710678    0.70710678 -520.66017178]]\n",
      "[[ 1.  0.  0.]\n",
      " [-0.  1.  0.]]\n",
      "[[ 7.07106781e-01  7.07106781e-01 -1.00660172e+02]\n",
      " [-7.07106781e-01  7.07106781e-01  8.36984848e+02]]\n",
      "[[ 6.123234e-17  1.000000e+00  4.200000e+02]\n",
      " [-1.000000e+00  6.123234e-17  1.500000e+03]]\n",
      "[[-7.07106781e-01  7.07106781e-01  1.25698485e+03]\n",
      " [-7.07106781e-01 -7.07106781e-01  1.60066017e+03]]\n",
      "[[-1.0000000e+00  1.2246468e-16  1.9200000e+03]\n",
      " [-1.2246468e-16 -1.0000000e+00  1.0800000e+03]]\n",
      "[[-7.07106781e-01 -7.07106781e-01  2.02066017e+03]\n",
      " [ 7.07106781e-01 -7.07106781e-01  2.43015152e+02]]\n",
      "[[-1.8369702e-16 -1.0000000e+00  1.5000000e+03]\n",
      " [ 1.0000000e+00 -1.8369702e-16 -4.2000000e+02]]\n",
      "[[   0.70710678   -0.70710678  663.0151519 ]\n",
      " [   0.70710678    0.70710678 -520.66017178]]\n",
      "[[ 1.  0.  0.]\n",
      " [-0.  1.  0.]]\n",
      "[[ 7.07106781e-01  7.07106781e-01 -1.00660172e+02]\n",
      " [-7.07106781e-01  7.07106781e-01  8.36984848e+02]]\n",
      "[[ 6.123234e-17  1.000000e+00  4.200000e+02]\n",
      " [-1.000000e+00  6.123234e-17  1.500000e+03]]\n",
      "[[-7.07106781e-01  7.07106781e-01  1.25698485e+03]\n",
      " [-7.07106781e-01 -7.07106781e-01  1.60066017e+03]]\n",
      "[[-1.0000000e+00  1.2246468e-16  1.9200000e+03]\n",
      " [-1.2246468e-16 -1.0000000e+00  1.0800000e+03]]\n",
      "[[-7.07106781e-01 -7.07106781e-01  2.02066017e+03]\n",
      " [ 7.07106781e-01 -7.07106781e-01  2.43015152e+02]]\n",
      "[[-1.8369702e-16 -1.0000000e+00  1.5000000e+03]\n",
      " [ 1.0000000e+00 -1.8369702e-16 -4.2000000e+02]]\n",
      "[[   0.70710678   -0.70710678  663.0151519 ]\n",
      " [   0.70710678    0.70710678 -520.66017178]]\n",
      "[[ 1.  0.  0.]\n",
      " [-0.  1.  0.]]\n",
      "[[ 7.07106781e-01  7.07106781e-01 -1.00660172e+02]\n",
      " [-7.07106781e-01  7.07106781e-01  8.36984848e+02]]\n",
      "[[ 6.123234e-17  1.000000e+00  4.200000e+02]\n",
      " [-1.000000e+00  6.123234e-17  1.500000e+03]]\n",
      "[[-7.07106781e-01  7.07106781e-01  1.25698485e+03]\n",
      " [-7.07106781e-01 -7.07106781e-01  1.60066017e+03]]\n",
      "[[-1.0000000e+00  1.2246468e-16  1.9200000e+03]\n",
      " [-1.2246468e-16 -1.0000000e+00  1.0800000e+03]]\n",
      "[[-7.07106781e-01 -7.07106781e-01  2.02066017e+03]\n",
      " [ 7.07106781e-01 -7.07106781e-01  2.43015152e+02]]\n",
      "[[-1.8369702e-16 -1.0000000e+00  1.5000000e+03]\n",
      " [ 1.0000000e+00 -1.8369702e-16 -4.2000000e+02]]\n",
      "[[   0.70710678   -0.70710678  663.0151519 ]\n",
      " [   0.70710678    0.70710678 -520.66017178]]\n",
      "Done\n"
     ]
    }
   ],
   "source": [
    "import json\n",
    "import cv2\n",
    "import numpy as np\n",
    "import os\n",
    "import json\n",
    "​\n",
    "# 폴더 경로 설정\n",
    "folder_path = \"D:/sample\"\n",
    "​\n",
    "# 결과를 저장할 폴더 경로 설정\n",
    "save_dir = \"D:/custom_results\"\n",
    "os.makedirs(save_dir, exist_ok=True)\n",
    "​\n",
    "# 모든 회전 각도 정의\n",
    "all_angles = list(range(0, 361, 45))\n",
    "​\n",
    "# Get a list of all image files in the folder\n",
    "image_files = [file for file in os.listdir(folder_path) if file.endswith(\".jpg\")]\n",
    "​\n",
    "def rotate_image(image, angle):\n",
    "    h, w = image.shape[:2]\n",
    "    cx, cy = w // 2, h // 2\n",
    "    \n",
    "    # 회전 변환 행렬 계산\n",
    "    matrix = cv2.getRotationMatrix2D((cx, cy), angle, 1)\n",
    "    \n",
    "    # 회전시 이미지가 짤리지 않게 회전 후의 이미지 크기 계산\n",
    "    abs_cos = abs(matrix[0, 0])\n",
    "    abs_sin = abs(matrix[0, 1])\n",
    "    new_w = int(h * abs_sin + w * abs_cos)\n",
    "    new_h = int(h * abs_cos + w * abs_sin)\n",
    "    \n",
    "    # 변환 행렬 업데이트\n",
    "    matrix[0, 2] += new_w / 2 - cx\n",
    "    matrix[1, 2] += new_h / 2 - cy\n",
    "​\n",
    "    rotated_image = cv2.warpAffine(image, matrix, (new_w, new_h))\n",
    "    \n",
    "    return rotated_image\n",
    "​\n",
    "def update_json_data(data, angle, w, h):\n",
    "    # JSON 데이터에서 바운딩 박스 정보 가져오기\n",
    "    bounding_boxes = data[\"Bounding\"]\n",
    "    \n",
    "    for box in bounding_boxes:\n",
    "        x1, y1, x2, y2 = float(box[\"x1\"]), float(box[\"y1\"]), float(box[\"x2\"]), float(box[\"y2\"])\n",
    "        \n",
    "        # 회전 중심점 계산\n",
    "        cx, cy = w // 2, h // 2\n",
    "        \n",
    "        # 각도에 따라 바운딩 박스 좌표 계산\n",
    "        radians = np.radians(angle)\n",
    "        cos_theta = np.cos(radians)\n",
    "        sin_theta = np.sin(radians)\n",
    "        \n",
    "        # 각도에 따라 좌표 회전\n",
    "        new_x1 = (x1 - cx) * cos_theta - (y1 - cy) * sin_theta + cx\n",
    "        new_y1 = (x1 - cx) * sin_theta + (y1 - cy) * cos_theta + cy\n",
    "        new_x2 = (x2 - cx) * cos_theta - (y2 - cy) * sin_theta + cx\n",
    "        new_y2 = (x2 - cx) * sin_theta + (y2 - cy) * cos_theta + cy\n",
    "        \n",
    "        # 업데이트된 바운딩 박스 정보를 JSON 데이터에 저장\n",
    "        box[\"x1\"], box[\"y1\"], box[\"x2\"], box[\"y2\"] = str(new_x1), str(new_y1), str(new_x2), str(new_y2)\n",
    "​\n",
    "# 이미지와 해당하는 .json 파일에 대하여 작업 수행\n",
    "for image_file in image_files:\n",
    "    # Extract the filename without extension\n",
    "    filename, _ = os.path.splitext(image_file)\n",
    "​\n",
    "    # Construct the full paths for the image and JSON file\n",
    "    image_path = os.path.join(folder_path, image_file)\n",
    "    json_file = filename + \".json\"\n",
    "    json_path = os.path.join(folder_path, json_file)\n",
    "​\n",
    "    # Load the image and JSON data\n",
    "    image = cv2.imread(image_path)\n",
    "    image = cv2.cvtColor(image, cv2.COLOR_BGR2RGB)\n",
    "​\n",
    "    with open(json_path, 'r', encoding='utf-8') as f:\n",
    "        data = json.load(f)\n",
    "​\n",
    "    # 0도부터 360도까지 45도 간격으로 이미지 회전\n",
    "    for angle in all_angles:\n",
    "        rotated_image = rotate_image(image, angle)\n",
    "        rotated_image_path = os.path.join(save_dir, f'{filename}_rotated_{angle}.jpg')\n",
    "​\n",
    "        # Save the rotated image\n",
    "        cv2.imwrite(rotated_image_path, rotated_image)\n",
    "​\n",
    "        # Update JSON data for the rotated image\n",
    "        update_json_data(data, angle, image.shape[1], image.shape[0])\n",
    "        rotated_json_path = os.path.join(save_dir, f'{filename}_rotated_{angle}.json')\n",
    "        with open(rotated_json_path, 'w', encoding='utf-8') as json_file:\n",
    "            json.dump(data, json_file)\n",
    "​\n",
    "print('Done')"
   ]
  },
  {
   "cell_type": "code",
   "execution_count": 1,
   "metadata": {},
   "outputs": [
    {
     "name": "stdout",
     "output_type": "stream",
     "text": [
      "True\n"
     ]
    }
   ],
   "source": [
    "import torch\n",
    "\n",
    "USE_CUDA = torch.cuda.is_available()\n",
    "print(USE_CUDA)"
   ]
  },
  {
   "cell_type": "code",
   "execution_count": null,
   "metadata": {},
   "outputs": [],
   "source": [
    "# assuming box coords = [x_min, y_min, x_max, y_max]\n",
    "def cropBoxByPercentage(box_coords, image_width, image_height, x_percentage=0.05, y_percentage=0.05):\n",
    "    box_xmin = box_coords[0]\n",
    "    box_ymin = box_coords[1]\n",
    "    box_xmax = box_coords[2]\n",
    "    box_ymax = box_coords[3]\n",
    "    box_width = box_xmax-box_xmin+1\n",
    "    box_height = box_ymax-box_ymin+1\n",
    "    dx = int(x_percentage * box_width)\n",
    "    dy = int(y_percentage * box_height)\n",
    "    box_xmin = max(0, box_xmin-dx)\n",
    "    box_xmax = min(image_width-1, box_xmax+dx)\n",
    "    box_ymin = max(0, box_ymax - dy)\n",
    "    box_ymax = min(image_height - 1, box_ymax + dy)\n",
    "    return np.array([box_xmin, box_xmax, box_ymin, box_ymax])"
   ]
  },
  {
   "cell_type": "code",
   "execution_count": 10,
   "metadata": {},
   "outputs": [
    {
     "name": "stdout",
     "output_type": "stream",
     "text": [
      "382.89832201251556 685.5400243603578\n",
      "-685.5400243603578 -382.89832201251556\n",
      "-382.89832201251556 -685.5400243603578\n",
      "685.5400243603578 382.89832201251556\n"
     ]
    }
   ],
   "source": [
    "import math\n",
    "width = 1511\n",
    "height = 428\n",
    "angle = 45\n",
    "center_x = 755.5\n",
    "center_y = 646\n",
    "\n",
    "half_width = width / 2\n",
    "half_height = height / 2\n",
    "angle_rad = angle * (math.pi / 180)\n",
    "offset_x1 = half_width * math.cos(angle_rad) - half_height * math.sin(angle_rad)\n",
    "offset_y1 = half_width * math.sin(angle_rad) + half_height * math.cos(angle_rad)\n",
    "\n",
    "offset_x2 = -half_width * math.cos(angle_rad) - half_height * math.sin(angle_rad)\n",
    "offset_y2 = -half_width * math.sin(angle_rad) + half_height * math.cos(angle_rad)\n",
    "\n",
    "offset_x3 = -half_width * math.cos(angle_rad) + half_height * math.sin(angle_rad)\n",
    "offset_y3 = -half_width * math.sin(angle_rad) - half_height * math.cos(angle_rad)\n",
    "\n",
    "offset_x4 = half_width * math.cos(angle_rad) + half_height * math.sin(angle_rad)\n",
    "offset_y4 = half_width * math.sin(angle_rad) - half_height * math.cos(angle_rad)\n",
    "\n",
    "\n",
    "rotated_x1 = center_x + offset_x1\n",
    "rotated_y1 = center_y + offset_y1\n",
    "\n",
    "rotated_x2 = center_x + offset_x2\n",
    "rotated_y2 = center_y + offset_y2\n",
    "\n",
    "rotated_x3 = center_x + offset_x3\n",
    "rotated_y3 = center_y + offset_y3\n",
    "\n",
    "rotated_x4 = center_x + offset_x4\n",
    "rotated_y4 = center_y + offset_y4\n"
   ]
  },
  {
   "cell_type": "code",
   "execution_count": 11,
   "metadata": {},
   "outputs": [
    {
     "name": "stdout",
     "output_type": "stream",
     "text": [
      "1138.3983220125156 1331.5400243603578\n",
      "69.95997563964215 263.10167798748444\n",
      "372.60167798748444 -39.54002436035785\n",
      "1441.0400243603578 1028.8983220125156\n"
     ]
    }
   ],
   "source": [
    "print(rotated_x1, rotated_y1)\n",
    "print(rotated_x2, rotated_y2)\n",
    "print(rotated_x3, rotated_y3)\n",
    "print(rotated_x4, rotated_y4)"
   ]
  },
  {
   "cell_type": "code",
   "execution_count": 6,
   "metadata": {},
   "outputs": [
    {
     "name": "stderr",
     "output_type": "stream",
     "text": [
      "100%|██████████| 21144/21144 [06:02<00:00, 58.36it/s] \n"
     ]
    },
    {
     "name": "stdout",
     "output_type": "stream",
     "text": [
      "수행시간: 362.789462 초\n"
     ]
    }
   ],
   "source": [
    "import time\n",
    "import os\n",
    "import shutil\n",
    "from tqdm import tqdm\n",
    "\n",
    "def heavy_work():\n",
    "    shutil.copy(os.path.join('backup', f), os.path.join('backup2',f))\n",
    "\n",
    "\n",
    "if __name__ == '__main__':\n",
    "    import multiprocessing\n",
    "    files = [x for x in os.listdir('backup')]\n",
    "    start = time.time()\n",
    "    procs = []\n",
    "    for f in tqdm(files):\n",
    "        p = multiprocessing.Process(target=heavy_work, args=(f, ))\n",
    "        p.start()\n",
    "        procs.append(p)\n",
    "\n",
    "    for p in procs:\n",
    "        p.join()  # 프로세스가 모두 종료될 때까지 대기\n",
    "\n",
    "    end = time.time()\n",
    "\n",
    "    print(\"수행시간: %f 초\" % (end - start))    "
   ]
  },
  {
   "cell_type": "code",
   "execution_count": 5,
   "metadata": {},
   "outputs": [
    {
     "name": "stderr",
     "output_type": "stream",
     "text": [
      "  0%|          | 0/21144 [00:00<?, ?it/s]"
     ]
    },
    {
     "name": "stderr",
     "output_type": "stream",
     "text": [
      "100%|██████████| 21144/21144 [03:49<00:00, 92.26it/s] "
     ]
    },
    {
     "name": "stdout",
     "output_type": "stream",
     "text": [
      "수행시간: 229.201456 초\n"
     ]
    },
    {
     "name": "stderr",
     "output_type": "stream",
     "text": [
      "\n"
     ]
    }
   ],
   "source": [
    "import time\n",
    "import os\n",
    "import shutil\n",
    "from tqdm import tqdm\n",
    "\n",
    "def heavy_work():\n",
    "    files = [x for x in os.listdir('backup')]\n",
    "    for f in tqdm(files):\n",
    "        shutil.copy(os.path.join('backup', f), os.path.join('backup2',f))\n",
    "\n",
    "\n",
    "start = time.time()\n",
    "\n",
    "heavy_work()\n",
    "\n",
    "end = time.time()\n",
    "\n",
    "print(\"수행시간: %f 초\" % (end - start))"
   ]
  },
  {
   "cell_type": "code",
   "execution_count": 12,
   "metadata": {},
   "outputs": [],
   "source": [
    "import multiprocessing\n",
    "\n",
    "def process_item(item):\n",
    "    # Do some processing on the item\n",
    "    result = item * 2\n",
    "    return result\n",
    "\n",
    "if __name__ == '__main__':\n",
    "    items = [1, 2, 3, 4, 5]\n",
    "    num_processes = 3\n",
    "\n",
    "    with multiprocessing.Pool(processes=num_processes) as pool:\n",
    "        results = pool.map(process_item, items)\n",
    "\n",
    "    print('Processed results:', results)"
   ]
  },
  {
   "cell_type": "code",
   "execution_count": 1,
   "metadata": {},
   "outputs": [],
   "source": [
    "import multiprocessing\n",
    "\n",
    "def process_function(argument):\n",
    "    result = argument * 2\n",
    "    return result\n",
    "\n",
    "if __name__ == '__main__':\n",
    "    argument = 42\n",
    "    num_processes = 4\n",
    "\n",
    "    with multiprocessing.Pool(processes=num_processes) as pool:\n",
    "        results = pool.map(process_function, [argument] * num_processes)\n",
    "        pool.close()\n",
    "        pool.join()\n",
    "\n",
    "    print('Processed results:', results)"
   ]
  },
  {
   "cell_type": "code",
   "execution_count": 3,
   "metadata": {},
   "outputs": [
    {
     "name": "stdout",
     "output_type": "stream",
     "text": [
      "This is another process\n"
     ]
    }
   ],
   "source": [
    "# SuperFastPython.com\n",
    "# example of running a function in a new process\n",
    "from multiprocessing import Process\n",
    " \n",
    "# a task to execute in another process\n",
    "def task():\n",
    "    print('This is another process', flush=True)\n",
    " \n",
    "# entry point for the program\n",
    "if __name__ == '__main__':\n",
    "    # define a task to run in a new process\n",
    "    p = Process(target=task())\n",
    "    # start the task in a new process\n",
    "    p.start()\n",
    "    # wait for the task to complete\n",
    "    p.join()"
   ]
  }
 ],
 "metadata": {
  "kernelspec": {
   "display_name": "venv",
   "language": "python",
   "name": "python3"
  },
  "language_info": {
   "codemirror_mode": {
    "name": "ipython",
    "version": 3
   },
   "file_extension": ".py",
   "mimetype": "text/x-python",
   "name": "python",
   "nbconvert_exporter": "python",
   "pygments_lexer": "ipython3",
   "version": "3.11.4"
  },
  "orig_nbformat": 4
 },
 "nbformat": 4,
 "nbformat_minor": 2
}
